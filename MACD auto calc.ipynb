{
 "cells": [
  {
   "cell_type": "code",
   "execution_count": 34,
   "id": "5f3ac3c1",
   "metadata": {},
   "outputs": [],
   "source": [
    "import pandas as pd\n",
    "import pandas_ta as ta\n",
    "import numpy as np\n",
    "import matplotlib.pyplot as plt\n",
    "import math\n",
    "import statistics as stat\n",
    "%matplotlib inline"
   ]
  },
  {
   "cell_type": "code",
   "execution_count": 30,
   "id": "34a521c4",
   "metadata": {
    "scrolled": true
   },
   "outputs": [],
   "source": [
    "f = open(r'C:\\Users\\ja_tr\\Desktop\\DCF DAMODARAN\\MACD STUDY\\stock.txt')\n",
    "tickers = f.read().split()\n",
    "f.close()\n",
    "\n",
    "\n",
    "tot_growth = []\n",
    "dt_buy = []\n",
    "dt_sell = []\n",
    "\n",
    "for name in tickers:\n",
    "#   READS CSV FILES AND REVERSES THE ROWS TO START AT THE OLDEST DATE\n",
    "    hist = pd.read_csv(r'C:\\Users\\ja_tr\\Desktop\\DCF DAMODARAN\\MACD STUDY\\STOCK DATA\\\\'+ name +' Historical Data.csv')\n",
    "    hist = hist[::-1].reset_index(drop = True) \n",
    "   \n",
    "    #   CALCULATES THE EMA, MACD AND HISTOGRAM AND APPENDS TO CSV\n",
    "    df = hist.drop(columns = ['Open', 'Low', 'High', 'Vol.', 'Change %'])\n",
    "    signal = hist.ta.macd(close='Price', fast=12, slow=26, append=True)\n",
    "\n",
    "    df['MA12'] = signal['MACD_12_26_9']\n",
    "    df['MA26'] = signal['MACDs_12_26_9']\n",
    "    df['MACD'] = signal['MACDh_12_26_9']\n",
    "    test_d = df.dropna().reset_index(drop=True)\n",
    "\n",
    "    price = list(test_d[\"Price\"])\n",
    "    histo = list(test_d[\"MACD\"])\n",
    "\n",
    "    #   VALUES SET\n",
    "    d_buy = 0\n",
    "    d_sell = 0\n",
    "    is_neg = 0\n",
    "    growth = []\n",
    "\n",
    "    if histo[0] < 0:\n",
    "        is_neg = 1\n",
    "\n",
    "    for x in range(len(test_d)):\n",
    "        if is_neg == 1:\n",
    "            if histo[x] > 0:\n",
    "                d_buy = price[x]\n",
    "                is_neg = 0\n",
    "        else:\n",
    "            if histo[x] < 0:\n",
    "                d_sell = price[x]\n",
    "                is_neg = 1\n",
    "                growth.append(((d_buy / d_sell)-1)*100)\n",
    "    tot_growth.extend(growth)"
   ]
  },
  {
   "cell_type": "code",
   "execution_count": 31,
   "id": "8bf93f31",
   "metadata": {},
   "outputs": [],
   "source": [
    "# REMOVAL OF OUTLIERS\n",
    "elements = np.array(tot_growth)\n",
    "\n",
    "mean = np.mean(elements, axis=0)\n",
    "sd = np.std(elements, axis=0)\n",
    "\n",
    "final_list = [x for x in tot_growth if (x > mean - 2 * sd)]\n",
    "final_list = [x for x in final_list if (x < mean + 2 * sd)]"
   ]
  },
  {
   "cell_type": "code",
   "execution_count": 35,
   "id": "a7a0c244",
   "metadata": {},
   "outputs": [
    {
     "data": {
      "image/png": "[encoded data removed]",
      "text/plain": [
       "<Figure size 432x288 with 1 Axes>"
      ]
     },
     "metadata": {
      "needs_background": "light"
     },
     "output_type": "display_data"
    },
    {
     "data": {
      "text/plain": [
       "1.904761904761909"
      ]
     },
     "execution_count": 35,
     "metadata": {},
     "output_type": "execute_result"
    }
   ],
   "source": [
    "plt.hist(final_list, bins='auto')\n",
    "sd = stat.stdev(final_list)\n",
    "m = stat.mean(final_list)\n",
    "plt.axvline(m, color = 'k', linestyle = 'dashed', label = 'mean: ' + str(round(np.mean(final_list), 3)) + '%')\n",
    "plt.axvline(m + sd, color = 'y', linestyle = 'dashed')\n",
    "plt.axvline(m - sd, color = 'y', linestyle = 'dashed')\n",
    "plt.title(\"Total Returns\")\n",
    "plt.label()\n",
    "\n",
    "plt.legend()\n",
    "plt.show()\n",
    "np.median(final_list)"
   ]
  }
 ],
 "metadata": {
  "kernelspec": {
   "display_name": "Python 3",
   "language": "python",
   "name": "python3"
  },
  "language_info": {
   "codemirror_mode": {
    "name": "ipython",
    "version": 3
   },
   "file_extension": ".py",
   "mimetype": "text/x-python",
   "name": "python",
   "nbconvert_exporter": "python",
   "pygments_lexer": "ipython3",
   "version": "3.8.8"
  }
 },
 "nbformat": 4,
 "nbformat_minor": 5
}
